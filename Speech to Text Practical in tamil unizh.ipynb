{
 "cells": [
  {
   "cell_type": "markdown",
   "id": "73208caa-81b2-440f-af54-b0adf3a17694",
   "metadata": {},
   "source": [
    "Give filename on top as 'speech to text practical'.and start coding.then 'Run'.finally click 'save and checkpoint'under file "
   ]
  },
  {
   "cell_type": "markdown",
   "id": "d91ea13e-eb81-479b-a076-5b7cb0a1c085",
   "metadata": {},
   "source": [
    "Lets build our small application for speech to text conversion.then learn how to use of google system here.After converting speech into text we can automatically write into any documents.If document is big and difficult to write ,then we use our application which converts speech into text and then write into document."
   ]
  },
  {
   "cell_type": "markdown",
   "id": "ac6a9f6d-14c5-4778-acd4-6a31edc9c619",
   "metadata": {},
   "source": [
    "Intsall pyaudio"
   ]
  },
  {
   "cell_type": "code",
   "execution_count": 1,
   "id": "d8af5342-0e84-4d70-a3ee-7dec903d2412",
   "metadata": {},
   "outputs": [
    {
     "name": "stdout",
     "output_type": "stream",
     "text": [
      "Requirement already satisfied: pyaudio in c:\\users\\welcome\\anaconda3\\lib\\site-packages (0.2.14)\n"
     ]
    }
   ],
   "source": [
    "!pip install pyaudio"
   ]
  },
  {
   "cell_type": "code",
   "execution_count": 2,
   "id": "5c998aa1-0cae-4635-8881-bad993548245",
   "metadata": {},
   "outputs": [
    {
     "name": "stdout",
     "output_type": "stream",
     "text": [
      "Requirement already satisfied: SpeechRecognition in c:\\users\\welcome\\anaconda3\\lib\\site-packages (3.14.3)\n",
      "Requirement already satisfied: typing-extensions in c:\\users\\welcome\\anaconda3\\lib\\site-packages (from SpeechRecognition) (4.11.0)\n",
      "Note: you may need to restart the kernel to use updated packages.\n"
     ]
    }
   ],
   "source": [
    "pip install SpeechRecognition"
   ]
  },
  {
   "cell_type": "code",
   "execution_count": 3,
   "id": "4963e04e-444a-469c-85e0-b185ec7968a0",
   "metadata": {},
   "outputs": [],
   "source": [
    "import speech_recognition as sr"
   ]
  },
  {
   "cell_type": "code",
   "execution_count": 4,
   "id": "a6351fc0-6154-42da-8e39-61986d7070a0",
   "metadata": {},
   "outputs": [],
   "source": [
    "r=sr.Recognizer()"
   ]
  },
  {
   "cell_type": "markdown",
   "id": "79ad21c9-1295-47d3-8804-afd957271e61",
   "metadata": {},
   "source": [
    "#Reading microphone as source\n",
    "#listening the speech and store in audio variable"
   ]
  },
  {
   "cell_type": "code",
   "execution_count": 22,
   "id": "862a74e4-e4e7-4a1e-8299-5a80d242bb11",
   "metadata": {},
   "outputs": [
    {
     "name": "stdout",
     "output_type": "stream",
     "text": [
      "start Talking\n",
      "You said: విజయ గాధలు ఒక ఉద్యోగ దాత గలం ఒక తరం కోసం ప్రేరణ విజయాన్ని వెతకడం కాదు విజయం పంచే కథలు ఎక్కడ ఉన్నాయో అక్కడికి మాయనే ప్రయాణిస్తున్న ఇది యూనియన్ ప్రపంచవ్యాప్తంగా ఉన్న తెలుగువారైన వ్యాపారవేత్తలు వారి ప్రయాణాలు కలలు కొత్త తరాన్ని దీప స్తంభంలో నిలుస్తున్నారు విజయానికి వెనుక ఉన్న కళ పరిస్థితులకు దాగిన ఆశలు ఆ నిజమైన కథలు గట్టిగా వినిపించడానికి యూనియన్ మీతో పాటు నిండుతుంది ఇది ఓ సాధారణ ఇంటర్వ్యూ కాదు ఇది విజయాన్ని శ్వాస ఇది నిజమైన జీవితం కష్టపడి గెలిచిన వారి గాధ వచ్చే వారంలో మనసును నిలబెట్టే బహుళ మంది జీవిత మార్గాన్ని మార్చిన కథలు సమర్పణ విజయ గాధలు మీ ప్రేరణకు ఇది శక్తివంతమైన ఆరంభం ఉద్యోగం మాట్లాడుతుంది విజయం రూపుదిద్దుకుంటుంది నిజాలు మాట్లాడితే మీరు రోజు వస్తుంది మీ కాదా చెప్పండి మరో జనరేషన్ దానికి కలలు కంటుంది మీ విజయం వాళ్లకి మార్గదర్శి అవుతుంది\n"
     ]
    }
   ],
   "source": [
    "with sr.Microphone() as source:\n",
    "    print(\"start Talking\")\n",
    "    r.adjust_for_ambient_noise(source, duration=1)\n",
    "    audio = r.record(source, duration=90)  # Record for 15 seconds\n",
    "try:\n",
    "    text = r.recognize_google(audio,language=\"te\")\n",
    "    print(\"You said:\", text)\n",
    "except sr.UnknownValueError:\n",
    "    print(\"Sorry, I could not understand the audio.\")\n",
    "except sr.RequestError as e:\n",
    "    print(f\"Could not request results; {e}\")\n",
    "\n",
    "    "
   ]
  },
  {
   "cell_type": "code",
   "execution_count": 23,
   "id": "e68f8e27-c4dd-47e5-8cfc-fe1e992bb650",
   "metadata": {},
   "outputs": [
    {
     "name": "stdout",
     "output_type": "stream",
     "text": [
      "విజయ గాధలు ఒక ఉద్యోగ దాత గలం ఒక తరం కోసం ప్రేరణ విజయాన్ని వెతకడం కాదు విజయం పంచే కథలు ఎక్కడ ఉన్నాయో అక్కడికి మాయనే ప్రయాణిస్తున్న ఇది యూనియన్ ప్రపంచవ్యాప్తంగా ఉన్న తెలుగువారైన వ్యాపారవేత్తలు వారి ప్రయాణాలు కలలు కొత్త తరాన్ని దీప స్తంభంలో నిలుస్తున్నారు విజయానికి వెనుక ఉన్న కళ పరిస్థితులకు దాగిన ఆశలు ఆ నిజమైన కథలు గట్టిగా వినిపించడానికి యూనియన్ మీతో పాటు నిండుతుంది ఇది ఓ సాధారణ ఇంటర్వ్యూ కాదు ఇది విజయాన్ని శ్వాస ఇది నిజమైన జీవితం కష్టపడి గెలిచిన వారి గాధ వచ్చే వారంలో మనసును నిలబెట్టే బహుళ మంది జీవిత మార్గాన్ని మార్చిన కథలు సమర్పణ విజయ గాధలు మీ ప్రేరణకు ఇది శక్తివంతమైన ఆరంభం ఉద్యోగం మాట్లాడుతుంది విజయం రూపుదిద్దుకుంటుంది నిజాలు మాట్లాడితే మీరు రోజు వస్తుంది మీ కాదా చెప్పండి మరో జనరేషన్ దానికి కలలు కంటుంది మీ విజయం వాళ్లకి మార్గదర్శి అవుతుంది\n"
     ]
    }
   ],
   "source": [
    "print(text)"
   ]
  },
  {
   "cell_type": "code",
   "execution_count": 15,
   "id": "c0681060-4fff-4e46-a7f5-75c7303f0a67",
   "metadata": {},
   "outputs": [],
   "source": [
    "#recognize() method will throw error if API is unreachable hence we use exception handling"
   ]
  },
  {
   "cell_type": "code",
   "execution_count": 16,
   "id": "8416b9f5-1573-40fc-b6e1-8386374a5157",
   "metadata": {},
   "outputs": [],
   "source": [
    "#using google speech recognition"
   ]
  },
  {
   "cell_type": "markdown",
   "id": "582eb53a-86b7-481c-9794-20172296722c",
   "metadata": {},
   "source": [
    "#we use recognize_google() as google software.It recognize speech using Recognizer() of r then we store in speech_to_text variable and print it."
   ]
  },
  {
   "cell_type": "markdown",
   "id": "3e18bcb0-d5e3-4503-9562-8b27101dcc9f",
   "metadata": {},
   "source": [
    "#Now store this  converted text data in document.we can read any article and store it in document.lets work on file operation to create and write data in document\n"
   ]
  },
  {
   "cell_type": "markdown",
   "id": "6933a10f-5b8f-4149-8adb-018219fe6f88",
   "metadata": {},
   "source": [
    "#open filw with write mode"
   ]
  },
  {
   "cell_type": "code",
   "execution_count": 24,
   "id": "9140d1d3-d1c4-4c9d-8476-163d80849f73",
   "metadata": {},
   "outputs": [
    {
     "name": "stdout",
     "output_type": "stream",
     "text": [
      "Requirement already satisfied: googletrans==4.0.0-rc1 in c:\\users\\welcome\\anaconda3\\lib\\site-packages (4.0.0rc1)\n",
      "Requirement already satisfied: httpx==0.13.3 in c:\\users\\welcome\\anaconda3\\lib\\site-packages (from googletrans==4.0.0-rc1) (0.13.3)\n",
      "Requirement already satisfied: certifi in c:\\users\\welcome\\anaconda3\\lib\\site-packages (from httpx==0.13.3->googletrans==4.0.0-rc1) (2025.4.26)\n",
      "Requirement already satisfied: hstspreload in c:\\users\\welcome\\anaconda3\\lib\\site-packages (from httpx==0.13.3->googletrans==4.0.0-rc1) (2025.1.1)\n",
      "Requirement already satisfied: sniffio in c:\\users\\welcome\\anaconda3\\lib\\site-packages (from httpx==0.13.3->googletrans==4.0.0-rc1) (1.3.0)\n",
      "Requirement already satisfied: chardet==3.* in c:\\users\\welcome\\anaconda3\\lib\\site-packages (from httpx==0.13.3->googletrans==4.0.0-rc1) (3.0.4)\n",
      "Requirement already satisfied: idna==2.* in c:\\users\\welcome\\anaconda3\\lib\\site-packages (from httpx==0.13.3->googletrans==4.0.0-rc1) (2.10)\n",
      "Requirement already satisfied: rfc3986<2,>=1.3 in c:\\users\\welcome\\anaconda3\\lib\\site-packages (from httpx==0.13.3->googletrans==4.0.0-rc1) (1.5.0)\n",
      "Requirement already satisfied: httpcore==0.9.* in c:\\users\\welcome\\anaconda3\\lib\\site-packages (from httpx==0.13.3->googletrans==4.0.0-rc1) (0.9.1)\n",
      "Requirement already satisfied: h11<0.10,>=0.8 in c:\\users\\welcome\\anaconda3\\lib\\site-packages (from httpcore==0.9.*->httpx==0.13.3->googletrans==4.0.0-rc1) (0.9.0)\n",
      "Requirement already satisfied: h2==3.* in c:\\users\\welcome\\anaconda3\\lib\\site-packages (from httpcore==0.9.*->httpx==0.13.3->googletrans==4.0.0-rc1) (3.2.0)\n",
      "Requirement already satisfied: hyperframe<6,>=5.2.0 in c:\\users\\welcome\\anaconda3\\lib\\site-packages (from h2==3.*->httpcore==0.9.*->httpx==0.13.3->googletrans==4.0.0-rc1) (5.2.0)\n",
      "Requirement already satisfied: hpack<4,>=3.0 in c:\\users\\welcome\\anaconda3\\lib\\site-packages (from h2==3.*->httpcore==0.9.*->httpx==0.13.3->googletrans==4.0.0-rc1) (3.0.0)\n",
      "Note: you may need to restart the kernel to use updated packages.\n"
     ]
    }
   ],
   "source": [
    "pip install googletrans==4.0.0-rc1"
   ]
  },
  {
   "cell_type": "code",
   "execution_count": 25,
   "id": "3b28dad3-4876-4f81-a8d5-36011b5a2b3a",
   "metadata": {},
   "outputs": [],
   "source": [
    "from googletrans import Translator"
   ]
  },
  {
   "cell_type": "code",
   "execution_count": 31,
   "id": "5bd770e9-6e12-46a9-af9b-cba13a59c68b",
   "metadata": {},
   "outputs": [
    {
     "name": "stdout",
     "output_type": "stream",
     "text": [
      "வெற்றிகரமான கதைகள் ஒரு தலைமுறை வெற்றிக்கு உத்வேகம் தேடவில்லை. தொழிற்சங்கம் உலகெங்கிலும் உள்ள யூனியன் பயணிகள் தொழிற்சங்கத்திற்கு பயணிக்கிறது. மல்டிஃபெடிம் பாதையை மாற்றிய கதைகள் வெற்றிக் கதைகளை சமர்ப்பிக்கும் மனதிற்கு இது ஒரு சக்திவாய்ந்த தொடக்க வேலையாக இருக்கும்.\n"
     ]
    }
   ],
   "source": [
    "translator = Translator()\n",
    "translated_text1 = translator.translate(text, dest='ta')\n",
    "print(translated_text1.text) # Output: Hello World"
   ]
  },
  {
   "cell_type": "code",
   "execution_count": 32,
   "id": "1a725163-eed7-415d-ad22-cf18a2474429",
   "metadata": {},
   "outputs": [
    {
     "name": "stdout",
     "output_type": "stream",
     "text": [
      "Successful stories are not looking for inspiration for a generation of success. The union is traveling to the union where the union travelers around the world.Stories that have changed the path of multi -lifetime to the mind of the submission of success stories it will be a powerful beginning job.\n"
     ]
    }
   ],
   "source": [
    "translator = Translator()\n",
    "translated_text2 = translator.translate(text, dest='en')\n",
    "print(translated_text2.text) # Output: Hello World"
   ]
  },
  {
   "cell_type": "code",
   "execution_count": 33,
   "id": "4bedce45-6b9a-4761-bf9c-0d4c6ba4a27d",
   "metadata": {},
   "outputs": [],
   "source": [
    "f=open(\"unizh_telugu_tamil.doc\",\"w\",encoding=\"utf-8\")"
   ]
  },
  {
   "cell_type": "markdown",
   "id": "fbbeccf9-8901-48c3-8e95-27f055643596",
   "metadata": {},
   "source": [
    "#writes recorded content into file"
   ]
  },
  {
   "cell_type": "code",
   "execution_count": 34,
   "id": "3b0f52e3-cd07-447e-b99d-ee6e12e4a6a1",
   "metadata": {},
   "outputs": [
    {
     "data": {
      "text/plain": [
       "262"
      ]
     },
     "execution_count": 34,
     "metadata": {},
     "output_type": "execute_result"
    }
   ],
   "source": [
    "f.write(translated_text1.text)"
   ]
  },
  {
   "cell_type": "markdown",
   "id": "d8ef0ff2-8c59-4a98-ac9f-6c898dfd57b7",
   "metadata": {},
   "source": [
    "#close the file"
   ]
  },
  {
   "cell_type": "code",
   "execution_count": 35,
   "id": "edd8e17e-a7b4-4645-8deb-67dfae372090",
   "metadata": {},
   "outputs": [],
   "source": [
    "f.close()"
   ]
  },
  {
   "cell_type": "markdown",
   "id": "5614452a-0048-4e29-a321-32a2bf0b7206",
   "metadata": {},
   "source": [
    "we can write into .doc ,.txt,etc.,The story.doc need not to be created already .just go and open that file in specified path.and the file will contain our audio text"
   ]
  },
  {
   "cell_type": "code",
   "execution_count": 36,
   "id": "b08b0fe2-60aa-41ba-aeda-c5fd6b15f88d",
   "metadata": {},
   "outputs": [],
   "source": [
    "f=open(\"unizh_telugu_eng.doc\",\"w\",encoding=\"utf-8\")"
   ]
  },
  {
   "cell_type": "code",
   "execution_count": 37,
   "id": "c6373ad5-611b-4a8b-96e8-8e8d951b03e2",
   "metadata": {},
   "outputs": [
    {
     "data": {
      "text/plain": [
       "298"
      ]
     },
     "execution_count": 37,
     "metadata": {},
     "output_type": "execute_result"
    }
   ],
   "source": [
    "f.write(translated_text2.text)"
   ]
  },
  {
   "cell_type": "code",
   "execution_count": 38,
   "id": "73a3a2f2-4cae-4f34-aa04-8aa094fb65ff",
   "metadata": {},
   "outputs": [],
   "source": [
    "f.close()"
   ]
  },
  {
   "cell_type": "code",
   "execution_count": null,
   "id": "1d5dc387-232a-4632-a98b-8044227c2c35",
   "metadata": {},
   "outputs": [],
   "source": []
  },
  {
   "cell_type": "code",
   "execution_count": null,
   "id": "aabab793-ae18-4b38-b228-4102f0525af2",
   "metadata": {},
   "outputs": [],
   "source": []
  },
  {
   "cell_type": "code",
   "execution_count": null,
   "id": "5723b431-7882-4fbc-9275-9cdedde96113",
   "metadata": {},
   "outputs": [],
   "source": []
  }
 ],
 "metadata": {
  "kernelspec": {
   "display_name": "Python [conda env:base] *",
   "language": "python",
   "name": "conda-base-py"
  },
  "language_info": {
   "codemirror_mode": {
    "name": "ipython",
    "version": 3
   },
   "file_extension": ".py",
   "mimetype": "text/x-python",
   "name": "python",
   "nbconvert_exporter": "python",
   "pygments_lexer": "ipython3",
   "version": "3.12.7"
  }
 },
 "nbformat": 4,
 "nbformat_minor": 5
}
