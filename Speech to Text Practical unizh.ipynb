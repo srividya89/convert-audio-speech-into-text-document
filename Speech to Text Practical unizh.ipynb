{
 "cells": [
  {
   "cell_type": "markdown",
   "id": "73208caa-81b2-440f-af54-b0adf3a17694",
   "metadata": {},
   "source": [
    "Give filename on top as 'speech to text practical'.and start coding.then 'Run'.finally click 'save and checkpoint'under file "
   ]
  },
  {
   "cell_type": "markdown",
   "id": "d91ea13e-eb81-479b-a076-5b7cb0a1c085",
   "metadata": {},
   "source": [
    "Lets build our small application for speech to text conversion.then learn how to use of google system here.After converting speech into text we can automatically write into any documents.If document is big and difficult to write ,then we use our application which converts speech into text and then write into document."
   ]
  },
  {
   "cell_type": "markdown",
   "id": "ac6a9f6d-14c5-4778-acd4-6a31edc9c619",
   "metadata": {},
   "source": [
    "Intsall pyaudio"
   ]
  },
  {
   "cell_type": "code",
   "execution_count": 1,
   "id": "d8af5342-0e84-4d70-a3ee-7dec903d2412",
   "metadata": {},
   "outputs": [
    {
     "name": "stdout",
     "output_type": "stream",
     "text": [
      "Requirement already satisfied: pyaudio in c:\\users\\welcome\\anaconda3\\lib\\site-packages (0.2.14)\n"
     ]
    }
   ],
   "source": [
    "!pip install pyaudio"
   ]
  },
  {
   "cell_type": "code",
   "execution_count": 2,
   "id": "5c998aa1-0cae-4635-8881-bad993548245",
   "metadata": {},
   "outputs": [
    {
     "name": "stdout",
     "output_type": "stream",
     "text": [
      "Requirement already satisfied: SpeechRecognition in c:\\users\\welcome\\anaconda3\\lib\\site-packages (3.14.3)\n",
      "Requirement already satisfied: typing-extensions in c:\\users\\welcome\\anaconda3\\lib\\site-packages (from SpeechRecognition) (4.11.0)\n",
      "Note: you may need to restart the kernel to use updated packages.\n"
     ]
    }
   ],
   "source": [
    "pip install SpeechRecognition"
   ]
  },
  {
   "cell_type": "code",
   "execution_count": 3,
   "id": "4963e04e-444a-469c-85e0-b185ec7968a0",
   "metadata": {},
   "outputs": [],
   "source": [
    "import speech_recognition as sr"
   ]
  },
  {
   "cell_type": "code",
   "execution_count": 4,
   "id": "a6351fc0-6154-42da-8e39-61986d7070a0",
   "metadata": {},
   "outputs": [],
   "source": [
    "r=sr.Recognizer()"
   ]
  },
  {
   "cell_type": "markdown",
   "id": "79ad21c9-1295-47d3-8804-afd957271e61",
   "metadata": {},
   "source": [
    "#Reading microphone as source\n",
    "#listening the speech and store in audio variable"
   ]
  },
  {
   "cell_type": "code",
   "execution_count": 22,
   "id": "862a74e4-e4e7-4a1e-8299-5a80d242bb11",
   "metadata": {},
   "outputs": [
    {
     "name": "stdout",
     "output_type": "stream",
     "text": [
      "start Talking\n",
      "You said: vision to be the go to platform for Tamil entrepreneur to connect collaborate and create a lasting impact globally our mission and power Tamil speaking entrepreneur to achieve their business dreams provide resources mentorship and funding support facilitate Global opportunities for collaboration and growth why choose Union Global networking meet investors mentors and like minded entrepreneurs knowledge sharing access workshops and expert session funding support gain exposure to investment opportunities scalable solution get tools and resources to expand your startup globally Union services at Union we offer a wide range of services designed to support and update Tamil entrepreneur providing the resources tools and connection they need to grow and succeed globally our platform\n"
     ]
    }
   ],
   "source": [
    "with sr.Microphone() as source:\n",
    "    print(\"start Talking\")\n",
    "    r.adjust_for_ambient_noise(source, duration=1)\n",
    "    audio = r.record(source, duration=60)  # Record for 15 seconds\n",
    "try:\n",
    "    text = r.recognize_google(audio)\n",
    "    print(\"You said:\", text)\n",
    "except sr.UnknownValueError:\n",
    "    print(\"Sorry, I could not understand the audio.\")\n",
    "except sr.RequestError as e:\n",
    "    print(f\"Could not request results; {e}\")\n",
    "\n",
    "    "
   ]
  },
  {
   "cell_type": "code",
   "execution_count": 33,
   "id": "e68f8e27-c4dd-47e5-8cfc-fe1e992bb650",
   "metadata": {},
   "outputs": [
    {
     "name": "stdout",
     "output_type": "stream",
     "text": [
      "vision to be the go to platform for Tamil entrepreneur to connect collaborate and create a lasting impact globally our mission and power Tamil speaking entrepreneur to achieve their business dreams provide resources mentorship and funding support facilitate Global opportunities for collaboration and growth why choose Union Global networking meet investors mentors and like minded entrepreneurs knowledge sharing access workshops and expert session funding support gain exposure to investment opportunities scalable solution get tools and resources to expand your startup globally Union services at Union we offer a wide range of services designed to support and update Tamil entrepreneur providing the resources tools and connection they need to grow and succeed globally our platform\n"
     ]
    }
   ],
   "source": [
    "print(text)"
   ]
  },
  {
   "cell_type": "code",
   "execution_count": 15,
   "id": "c0681060-4fff-4e46-a7f5-75c7303f0a67",
   "metadata": {},
   "outputs": [],
   "source": [
    "#recognize() method will throw error if API is unreachable hence we use exception handling"
   ]
  },
  {
   "cell_type": "code",
   "execution_count": 16,
   "id": "8416b9f5-1573-40fc-b6e1-8386374a5157",
   "metadata": {},
   "outputs": [],
   "source": [
    "#using google speech recognition"
   ]
  },
  {
   "cell_type": "code",
   "execution_count": 29,
   "id": "ebde1b5c-eeb2-40cf-96c3-990af50afd1f",
   "metadata": {},
   "outputs": [
    {
     "name": "stdout",
     "output_type": "stream",
     "text": [
      "Sorry,I did not get you\n"
     ]
    }
   ],
   "source": [
    "#try:\n",
    "    # speech_to_text=r.recognize_google(text)\n",
    "     #print(speech_to_text)\n",
    "#except: \n",
    "     #print(\"Sorry,I did not get you\")"
   ]
  },
  {
   "cell_type": "markdown",
   "id": "582eb53a-86b7-481c-9794-20172296722c",
   "metadata": {},
   "source": [
    "#we use recognize_google() as google software.It recognize speech using Recognizer() of r then we store in speech_to_text variable and print it."
   ]
  },
  {
   "cell_type": "markdown",
   "id": "3e18bcb0-d5e3-4503-9562-8b27101dcc9f",
   "metadata": {},
   "source": [
    "#Now store this  converted text data in document.we can read any article and store it in document.lets work on file operation to create and write data in document\n"
   ]
  },
  {
   "cell_type": "markdown",
   "id": "6933a10f-5b8f-4149-8adb-018219fe6f88",
   "metadata": {},
   "source": [
    "#open filw with write mode"
   ]
  },
  {
   "cell_type": "code",
   "execution_count": 35,
   "id": "4bedce45-6b9a-4761-bf9c-0d4c6ba4a27d",
   "metadata": {},
   "outputs": [],
   "source": [
    "f=open(\"unizh.doc\",\"w\")"
   ]
  },
  {
   "cell_type": "markdown",
   "id": "fbbeccf9-8901-48c3-8e95-27f055643596",
   "metadata": {},
   "source": [
    "#writes recorded content into file"
   ]
  },
  {
   "cell_type": "code",
   "execution_count": 36,
   "id": "3b0f52e3-cd07-447e-b99d-ee6e12e4a6a1",
   "metadata": {},
   "outputs": [
    {
     "data": {
      "text/plain": [
       "786"
      ]
     },
     "execution_count": 36,
     "metadata": {},
     "output_type": "execute_result"
    }
   ],
   "source": [
    "f.write(text)"
   ]
  },
  {
   "cell_type": "markdown",
   "id": "d8ef0ff2-8c59-4a98-ac9f-6c898dfd57b7",
   "metadata": {},
   "source": [
    "#close the file"
   ]
  },
  {
   "cell_type": "code",
   "execution_count": 37,
   "id": "edd8e17e-a7b4-4645-8deb-67dfae372090",
   "metadata": {},
   "outputs": [],
   "source": [
    "f.close()"
   ]
  },
  {
   "cell_type": "markdown",
   "id": "5614452a-0048-4e29-a321-32a2bf0b7206",
   "metadata": {},
   "source": [
    "we can write into .doc ,.txt,etc.,The story.doc need not to be created already .just go and open that file in specified path.and the file will contain our audio text"
   ]
  },
  {
   "cell_type": "code",
   "execution_count": null,
   "id": "b08b0fe2-60aa-41ba-aeda-c5fd6b15f88d",
   "metadata": {},
   "outputs": [],
   "source": []
  },
  {
   "cell_type": "code",
   "execution_count": null,
   "id": "5723b431-7882-4fbc-9275-9cdedde96113",
   "metadata": {},
   "outputs": [],
   "source": []
  }
 ],
 "metadata": {
  "kernelspec": {
   "display_name": "Python [conda env:base] *",
   "language": "python",
   "name": "conda-base-py"
  },
  "language_info": {
   "codemirror_mode": {
    "name": "ipython",
    "version": 3
   },
   "file_extension": ".py",
   "mimetype": "text/x-python",
   "name": "python",
   "nbconvert_exporter": "python",
   "pygments_lexer": "ipython3",
   "version": "3.12.7"
  }
 },
 "nbformat": 4,
 "nbformat_minor": 5
}
